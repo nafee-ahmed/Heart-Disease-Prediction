{
 "cells": [
  {
   "cell_type": "markdown",
   "id": "7c00c88c",
   "metadata": {},
   "source": [
    "Steps for data mining workflow:\n",
    "\n",
    "1. Getting the data ready\n",
    "2. Choose the right estimator/algorithm for our problems.\n",
    "3. Fit the model/algorithm and use it to make predictions on our data.\n",
    "4. Evaluating a model\n",
    "5. Improve a model\n",
    "6. Save and load a trained model"
   ]
  },
  {
   "cell_type": "code",
   "execution_count": 469,
   "id": "02ab3a23",
   "metadata": {},
   "outputs": [],
   "source": [
    "import pandas as pd\n",
    "import numpy as np\n",
    "import matplotlib.pyplot as plt\n",
    "from sklearn.ensemble import RandomForestClassifier\n",
    "from sklearn.model_selection import train_test_split\n",
    "from sklearn.metrics import accuracy_score, precision_score, recall_score\n",
    "from sklearn.preprocessing import OneHotEncoder # turns into numbers\n",
    "from sklearn.compose import ColumnTransformer\n",
    "from sklearn.neighbors import KNeighborsClassifier\n",
    "from sklearn.tree import DecisionTreeClassifier\n",
    "np.random.seed(333)"
   ]
  },
  {
   "cell_type": "markdown",
   "id": "3698bcaa",
   "metadata": {},
   "source": [
    "# The data is read by pandas"
   ]
  },
  {
   "cell_type": "code",
   "execution_count": 470,
   "id": "43cc9df3",
   "metadata": {},
   "outputs": [
    {
     "data": {
      "text/html": [
       "<div>\n",
       "<style scoped>\n",
       "    .dataframe tbody tr th:only-of-type {\n",
       "        vertical-align: middle;\n",
       "    }\n",
       "\n",
       "    .dataframe tbody tr th {\n",
       "        vertical-align: top;\n",
       "    }\n",
       "\n",
       "    .dataframe thead th {\n",
       "        text-align: right;\n",
       "    }\n",
       "</style>\n",
       "<table border=\"1\" class=\"dataframe\">\n",
       "  <thead>\n",
       "    <tr style=\"text-align: right;\">\n",
       "      <th></th>\n",
       "      <th>Age</th>\n",
       "      <th>Sex</th>\n",
       "      <th>Chest pain type</th>\n",
       "      <th>BP</th>\n",
       "      <th>Cholesterol</th>\n",
       "      <th>FBS over 120</th>\n",
       "      <th>EKG results</th>\n",
       "      <th>Max HR</th>\n",
       "      <th>Exercise angina</th>\n",
       "      <th>ST depression</th>\n",
       "      <th>Slope of ST</th>\n",
       "      <th>Number of vessels fluro</th>\n",
       "      <th>Thallium</th>\n",
       "      <th>Heart Disease</th>\n",
       "    </tr>\n",
       "  </thead>\n",
       "  <tbody>\n",
       "    <tr>\n",
       "      <th>0</th>\n",
       "      <td>70</td>\n",
       "      <td>1</td>\n",
       "      <td>4</td>\n",
       "      <td>130</td>\n",
       "      <td>322</td>\n",
       "      <td>0</td>\n",
       "      <td>2</td>\n",
       "      <td>109</td>\n",
       "      <td>0</td>\n",
       "      <td>2.4</td>\n",
       "      <td>2</td>\n",
       "      <td>3</td>\n",
       "      <td>3</td>\n",
       "      <td>Presence</td>\n",
       "    </tr>\n",
       "    <tr>\n",
       "      <th>1</th>\n",
       "      <td>67</td>\n",
       "      <td>0</td>\n",
       "      <td>3</td>\n",
       "      <td>115</td>\n",
       "      <td>564</td>\n",
       "      <td>0</td>\n",
       "      <td>2</td>\n",
       "      <td>160</td>\n",
       "      <td>0</td>\n",
       "      <td>1.6</td>\n",
       "      <td>2</td>\n",
       "      <td>0</td>\n",
       "      <td>7</td>\n",
       "      <td>Absence</td>\n",
       "    </tr>\n",
       "    <tr>\n",
       "      <th>2</th>\n",
       "      <td>57</td>\n",
       "      <td>1</td>\n",
       "      <td>2</td>\n",
       "      <td>124</td>\n",
       "      <td>261</td>\n",
       "      <td>0</td>\n",
       "      <td>0</td>\n",
       "      <td>141</td>\n",
       "      <td>0</td>\n",
       "      <td>0.3</td>\n",
       "      <td>1</td>\n",
       "      <td>0</td>\n",
       "      <td>7</td>\n",
       "      <td>Presence</td>\n",
       "    </tr>\n",
       "    <tr>\n",
       "      <th>3</th>\n",
       "      <td>64</td>\n",
       "      <td>1</td>\n",
       "      <td>4</td>\n",
       "      <td>128</td>\n",
       "      <td>263</td>\n",
       "      <td>0</td>\n",
       "      <td>0</td>\n",
       "      <td>105</td>\n",
       "      <td>1</td>\n",
       "      <td>0.2</td>\n",
       "      <td>2</td>\n",
       "      <td>1</td>\n",
       "      <td>7</td>\n",
       "      <td>Absence</td>\n",
       "    </tr>\n",
       "    <tr>\n",
       "      <th>4</th>\n",
       "      <td>74</td>\n",
       "      <td>0</td>\n",
       "      <td>2</td>\n",
       "      <td>120</td>\n",
       "      <td>269</td>\n",
       "      <td>0</td>\n",
       "      <td>2</td>\n",
       "      <td>121</td>\n",
       "      <td>1</td>\n",
       "      <td>0.2</td>\n",
       "      <td>1</td>\n",
       "      <td>1</td>\n",
       "      <td>3</td>\n",
       "      <td>Absence</td>\n",
       "    </tr>\n",
       "  </tbody>\n",
       "</table>\n",
       "</div>"
      ],
      "text/plain": [
       "   Age  Sex  Chest pain type   BP  Cholesterol  FBS over 120  EKG results  \\\n",
       "0   70    1                4  130          322             0            2   \n",
       "1   67    0                3  115          564             0            2   \n",
       "2   57    1                2  124          261             0            0   \n",
       "3   64    1                4  128          263             0            0   \n",
       "4   74    0                2  120          269             0            2   \n",
       "\n",
       "   Max HR  Exercise angina  ST depression  Slope of ST  \\\n",
       "0     109                0            2.4            2   \n",
       "1     160                0            1.6            2   \n",
       "2     141                0            0.3            1   \n",
       "3     105                1            0.2            2   \n",
       "4     121                1            0.2            1   \n",
       "\n",
       "   Number of vessels fluro  Thallium Heart Disease  \n",
       "0                        3         3      Presence  \n",
       "1                        0         7       Absence  \n",
       "2                        0         7      Presence  \n",
       "3                        1         7       Absence  \n",
       "4                        1         3       Absence  "
      ]
     },
     "execution_count": 470,
     "metadata": {},
     "output_type": "execute_result"
    }
   ],
   "source": [
    "heart_disease = pd.read_csv(\"Heart_Disease_Prediction.csv\")\n",
    "heart_disease.head()"
   ]
  },
  {
   "cell_type": "markdown",
   "id": "03fa6578",
   "metadata": {},
   "source": [
    "# Observing if there are any missing values & how many columns can be turned to categorical columns"
   ]
  },
  {
   "cell_type": "code",
   "execution_count": 471,
   "id": "bd6ee654",
   "metadata": {},
   "outputs": [
    {
     "data": {
      "text/plain": [
       "4    129\n",
       "3     79\n",
       "2     42\n",
       "1     20\n",
       "Name: Chest pain type, dtype: int64"
      ]
     },
     "execution_count": 471,
     "metadata": {},
     "output_type": "execute_result"
    }
   ],
   "source": [
    "# Observing the data so the model becomes accurately trained\n",
    "heart_disease[\"Chest pain type\"].value_counts()"
   ]
  },
  {
   "cell_type": "code",
   "execution_count": 472,
   "id": "bfe847e5",
   "metadata": {},
   "outputs": [
    {
     "data": {
      "text/plain": [
       "0    230\n",
       "1     40\n",
       "Name: FBS over 120, dtype: int64"
      ]
     },
     "execution_count": 472,
     "metadata": {},
     "output_type": "execute_result"
    }
   ],
   "source": [
    "heart_disease[\"FBS over 120\"].value_counts()"
   ]
  },
  {
   "cell_type": "code",
   "execution_count": 473,
   "id": "c48e2f1b",
   "metadata": {},
   "outputs": [
    {
     "data": {
      "text/plain": [
       "2    137\n",
       "0    131\n",
       "1      2\n",
       "Name: EKG results, dtype: int64"
      ]
     },
     "execution_count": 473,
     "metadata": {},
     "output_type": "execute_result"
    }
   ],
   "source": [
    "heart_disease[\"EKG results\"].value_counts()"
   ]
  },
  {
   "cell_type": "code",
   "execution_count": 474,
   "id": "26968bf5",
   "metadata": {},
   "outputs": [
    {
     "data": {
      "text/plain": [
       "0    181\n",
       "1     89\n",
       "Name: Exercise angina, dtype: int64"
      ]
     },
     "execution_count": 474,
     "metadata": {},
     "output_type": "execute_result"
    }
   ],
   "source": [
    "heart_disease[\"Exercise angina\"].value_counts()"
   ]
  },
  {
   "cell_type": "code",
   "execution_count": 475,
   "id": "33b8a032",
   "metadata": {},
   "outputs": [
    {
     "data": {
      "text/plain": [
       "1    130\n",
       "2    122\n",
       "3     18\n",
       "Name: Slope of ST, dtype: int64"
      ]
     },
     "execution_count": 475,
     "metadata": {},
     "output_type": "execute_result"
    }
   ],
   "source": [
    "heart_disease[\"Slope of ST\"].value_counts()"
   ]
  },
  {
   "cell_type": "code",
   "execution_count": 476,
   "id": "fa58a29c",
   "metadata": {},
   "outputs": [
    {
     "data": {
      "text/plain": [
       "0    160\n",
       "1     58\n",
       "2     33\n",
       "3     19\n",
       "Name: Number of vessels fluro, dtype: int64"
      ]
     },
     "execution_count": 476,
     "metadata": {},
     "output_type": "execute_result"
    }
   ],
   "source": [
    "heart_disease[\"Number of vessels fluro\"].value_counts()"
   ]
  },
  {
   "cell_type": "code",
   "execution_count": 477,
   "id": "4ef75e4d",
   "metadata": {},
   "outputs": [
    {
     "data": {
      "text/plain": [
       "3    152\n",
       "7    104\n",
       "6     14\n",
       "Name: Thallium, dtype: int64"
      ]
     },
     "execution_count": 477,
     "metadata": {},
     "output_type": "execute_result"
    }
   ],
   "source": [
    "heart_disease[\"Thallium\"].value_counts()"
   ]
  },
  {
   "cell_type": "code",
   "execution_count": 478,
   "id": "5d5e96d4",
   "metadata": {},
   "outputs": [
    {
     "data": {
      "text/plain": [
       "Absence     150\n",
       "Presence    120\n",
       "Name: Heart Disease, dtype: int64"
      ]
     },
     "execution_count": 478,
     "metadata": {},
     "output_type": "execute_result"
    }
   ],
   "source": [
    "heart_disease[\"Heart Disease\"].value_counts()"
   ]
  },
  {
   "cell_type": "code",
   "execution_count": 479,
   "id": "abe938b1",
   "metadata": {},
   "outputs": [
    {
     "data": {
      "text/plain": [
       "Age                        0\n",
       "Sex                        0\n",
       "Chest pain type            0\n",
       "BP                         0\n",
       "Cholesterol                0\n",
       "FBS over 120               0\n",
       "EKG results                0\n",
       "Max HR                     0\n",
       "Exercise angina            0\n",
       "ST depression              0\n",
       "Slope of ST                0\n",
       "Number of vessels fluro    0\n",
       "Thallium                   0\n",
       "Heart Disease              0\n",
       "dtype: int64"
      ]
     },
     "execution_count": 479,
     "metadata": {},
     "output_type": "execute_result"
    }
   ],
   "source": [
    "heart_disease.isna().sum()"
   ]
  },
  {
   "cell_type": "markdown",
   "id": "13883c45",
   "metadata": {},
   "source": [
    "# Columns above need to be turned to categorical, but let's split to x & y first"
   ]
  },
  {
   "cell_type": "code",
   "execution_count": 480,
   "id": "5fcdf24f",
   "metadata": {},
   "outputs": [],
   "source": [
    "x = heart_disease.drop(\"Heart Disease\", axis=1)\n",
    "y = heart_disease[\"Heart Disease\"]"
   ]
  },
  {
   "cell_type": "markdown",
   "id": "9e8f9bfb",
   "metadata": {},
   "source": [
    "# Turning columns to categorical to produce better results"
   ]
  },
  {
   "cell_type": "code",
   "execution_count": 481,
   "id": "cbd9a6dc",
   "metadata": {},
   "outputs": [
    {
     "data": {
      "text/plain": [
       "(      0    1    2    3    4    5    6    7    8    9   ...   18   19   20  \\\n",
       " 0    0.0  0.0  0.0  1.0  1.0  0.0  0.0  0.0  1.0  1.0  ...  1.0  0.0  0.0   \n",
       " 1    0.0  0.0  1.0  0.0  1.0  0.0  0.0  0.0  1.0  1.0  ...  0.0  0.0  1.0   \n",
       " 2    0.0  1.0  0.0  0.0  1.0  0.0  1.0  0.0  0.0  1.0  ...  0.0  0.0  1.0   \n",
       " 3    0.0  0.0  0.0  1.0  1.0  0.0  1.0  0.0  0.0  0.0  ...  0.0  0.0  1.0   \n",
       " 4    0.0  1.0  0.0  0.0  1.0  0.0  0.0  0.0  1.0  0.0  ...  1.0  0.0  0.0   \n",
       " ..   ...  ...  ...  ...  ...  ...  ...  ...  ...  ...  ...  ...  ...  ...   \n",
       " 265  0.0  0.0  1.0  0.0  0.0  1.0  1.0  0.0  0.0  1.0  ...  0.0  0.0  1.0   \n",
       " 266  0.0  1.0  0.0  0.0  1.0  0.0  1.0  0.0  0.0  1.0  ...  0.0  0.0  1.0   \n",
       " 267  0.0  1.0  0.0  0.0  1.0  0.0  0.0  0.0  1.0  1.0  ...  1.0  0.0  0.0   \n",
       " 268  0.0  0.0  0.0  1.0  1.0  0.0  1.0  0.0  0.0  1.0  ...  0.0  1.0  0.0   \n",
       " 269  0.0  0.0  0.0  1.0  1.0  0.0  0.0  0.0  1.0  0.0  ...  1.0  0.0  0.0   \n",
       " \n",
       "       21   22    23     24     25     26   27  \n",
       " 0    0.0  1.0  70.0  130.0  322.0  109.0  2.4  \n",
       " 1    1.0  0.0  67.0  115.0  564.0  160.0  1.6  \n",
       " 2    0.0  1.0  57.0  124.0  261.0  141.0  0.3  \n",
       " 3    0.0  1.0  64.0  128.0  263.0  105.0  0.2  \n",
       " 4    1.0  0.0  74.0  120.0  269.0  121.0  0.2  \n",
       " ..   ...  ...   ...    ...    ...    ...  ...  \n",
       " 265  0.0  1.0  52.0  172.0  199.0  162.0  0.5  \n",
       " 266  0.0  1.0  44.0  120.0  263.0  173.0  0.0  \n",
       " 267  1.0  0.0  56.0  140.0  294.0  153.0  1.3  \n",
       " 268  0.0  1.0  57.0  140.0  192.0  148.0  0.4  \n",
       " 269  0.0  1.0  67.0  160.0  286.0  108.0  1.5  \n",
       " \n",
       " [270 rows x 28 columns],\n",
       "        0    1\n",
       " 0    0.0  1.0\n",
       " 1    1.0  0.0\n",
       " 2    0.0  1.0\n",
       " 3    1.0  0.0\n",
       " 4    1.0  0.0\n",
       " ..   ...  ...\n",
       " 265  1.0  0.0\n",
       " 266  1.0  0.0\n",
       " 267  1.0  0.0\n",
       " 268  1.0  0.0\n",
       " 269  0.0  1.0\n",
       " \n",
       " [270 rows x 2 columns])"
      ]
     },
     "execution_count": 481,
     "metadata": {},
     "output_type": "execute_result"
    }
   ],
   "source": [
    "# turns x, y to categorica columns on categorical_features, remainder passthrough\n",
    "one_hot = OneHotEncoder()\n",
    "categorical_features_x = [\"Chest pain type\", \n",
    "                        \"FBS over 120\", \n",
    "                        \"EKG results\",\n",
    "                       \"Exercise angina\",\n",
    "                       \"Slope of ST\",\n",
    "                       \"Number of vessels fluro\",\n",
    "                       \"Thallium\",\n",
    "                       \"Sex\"]\n",
    "transformer_x = ColumnTransformer([(\"one_hot\", \n",
    "                                  one_hot, \n",
    "                                  categorical_features_x)],\n",
    "                               remainder=\"passthrough\")\n",
    "transformed_x = transformer_x.fit_transform(x)\n",
    "\n",
    "y = pd.DataFrame(y)\n",
    "categorical_features_y = [\"Heart Disease\"]\n",
    "transformer_y = ColumnTransformer([(\"one_hot\",\n",
    "                                   one_hot,\n",
    "                                   categorical_features_y)],\n",
    "                                 remainder=\"passthrough\")\n",
    "transformed_y = transformer_y.fit_transform(y)\n",
    "\n",
    "pd.DataFrame(transformed_x), pd.DataFrame(transformed_y)"
   ]
  },
  {
   "cell_type": "markdown",
   "id": "b95f3036",
   "metadata": {},
   "source": [
    "# Split into training and test set"
   ]
  },
  {
   "cell_type": "code",
   "execution_count": 482,
   "id": "9e256ea7",
   "metadata": {},
   "outputs": [],
   "source": [
    "x_train, x_test, y_train, y_test = train_test_split(transformed_x, \n",
    "                                                    transformed_y, \n",
    "                                                    test_size=0.2)"
   ]
  },
  {
   "cell_type": "markdown",
   "id": "59ea3643",
   "metadata": {},
   "source": [
    "# We are told to use 3 data mining techniques and 3 performance metrics so training and evaluating with the first data mining technique and evaluating with 3 performance metrics\n",
    "\n",
    "First classifier used: RandomForest"
   ]
  },
  {
   "cell_type": "code",
   "execution_count": 483,
   "id": "27a14d47",
   "metadata": {},
   "outputs": [
    {
     "name": "stdout",
     "output_type": "stream",
     "text": [
      "Accuracy: 87.04%\n",
      "Precision: 87.04%\n",
      "Recall: 87.04%\n"
     ]
    }
   ],
   "source": [
    "np.random.seed(333)\n",
    "# Training Classifier\n",
    "clf1 = RandomForestClassifier()\n",
    "clf1.fit(x_train, y_train)\n",
    "\n",
    "# Predicting values of y after prediction\n",
    "y_preds = clf1.predict(x_test)\n",
    "\n",
    "print(f\"Accuracy: {accuracy_score(y_test, y_preds) * 100:.2f}%\")\n",
    "print(f\"Precision: {precision_score(y_test, y_preds, average='micro') * 100:.2f}%\")\n",
    "print(f\"Recall: {recall_score(y_test, y_preds, average='micro') * 100:.2f}%\")"
   ]
  },
  {
   "cell_type": "markdown",
   "id": "c6ff7587",
   "metadata": {},
   "source": [
    "# Training and evaluating with the second data mining technique and evaluating with 3 performance metrics\n",
    "\n",
    "Second classifier: KNN (K Nearest Neighbors)"
   ]
  },
  {
   "cell_type": "code",
   "execution_count": 484,
   "id": "ac02150b",
   "metadata": {},
   "outputs": [
    {
     "name": "stdout",
     "output_type": "stream",
     "text": [
      "Accuracy: 66.67%\n",
      "Precision: 66.67%\n",
      "Recall: 66.67%\n"
     ]
    }
   ],
   "source": [
    "np.random.seed(333)\n",
    "# Training Classifier\n",
    "clf2 = KNeighborsClassifier(n_neighbors = 5, metric = 'minkowski', p = 2)\n",
    "clf2.fit(x_train, y_train)\n",
    "\n",
    "# Predicting values of y after prediction\n",
    "y_preds = clf2.predict(x_test)\n",
    "\n",
    "print(f\"Accuracy: {accuracy_score(y_test, y_preds) * 100:.2f}%\")\n",
    "print(f\"Precision: {precision_score(y_test, y_preds, average='micro') * 100:.2f}%\")\n",
    "print(f\"Recall: {recall_score(y_test, y_preds, average='micro') * 100:.2f}%\")"
   ]
  },
  {
   "cell_type": "markdown",
   "id": "95aca277",
   "metadata": {},
   "source": [
    "# Training and evaluating with the third data mining technique and evaluating with 3 performance metrics\n",
    "Third classifier: Naïve Bayes"
   ]
  },
  {
   "cell_type": "code",
   "execution_count": 485,
   "id": "c6496021",
   "metadata": {},
   "outputs": [
    {
     "name": "stdout",
     "output_type": "stream",
     "text": [
      "Accuracy: 66.67%\n",
      "Precision: 66.67%\n",
      "Recall: 66.67%\n"
     ]
    }
   ],
   "source": [
    "clf3 = DecisionTreeClassifier(criterion = 'entropy', random_state = 0)\n",
    "clf3.fit(x_train, y_train)\n",
    "\n",
    "# Predicting values of y after prediction\n",
    "y_preds = clf3.predict(x_test)\n",
    "\n",
    "print(f\"Accuracy: {accuracy_score(y_test, y_preds) * 100:.2f}%\")\n",
    "print(f\"Precision: {precision_score(y_test, y_preds, average='micro') * 100:.2f}%\")\n",
    "print(f\"Recall: {recall_score(y_test, y_preds, average='micro') * 100:.2f}%\")"
   ]
  },
  {
   "cell_type": "code",
   "execution_count": null,
   "id": "20d078e3",
   "metadata": {},
   "outputs": [],
   "source": []
  }
 ],
 "metadata": {
  "kernelspec": {
   "display_name": "Python 3 (ipykernel)",
   "language": "python",
   "name": "python3"
  },
  "language_info": {
   "codemirror_mode": {
    "name": "ipython",
    "version": 3
   },
   "file_extension": ".py",
   "mimetype": "text/x-python",
   "name": "python",
   "nbconvert_exporter": "python",
   "pygments_lexer": "ipython3",
   "version": "3.10.8"
  }
 },
 "nbformat": 4,
 "nbformat_minor": 5
}
