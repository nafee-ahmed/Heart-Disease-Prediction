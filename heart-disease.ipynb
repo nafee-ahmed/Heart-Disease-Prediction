{
 "cells": [
  {
   "cell_type": "markdown",
   "id": "7f1f89b4",
   "metadata": {},
   "source": [
    "# Introduction\n",
    "In this notebook, the heart disease i.e y is getting predicted, based on some x values.\n",
    "The y values are like so:\n",
    "* Heart disease: The \"goal\" field refers to the presence of heart disease in the patient.  It is string valued from Presence and Absence.\n",
    "\n",
    "The x values are like so:\n",
    "* Age\n",
    "* Sex\n",
    "* Chest pain type\n",
    "* BP\n",
    "* Cholesterol\n",
    "* FBS over 120\n",
    "* EKG results\n",
    "* Max HR\n",
    "* Exercise angina\n",
    "* ST depression\n",
    "* Slope of ST\n",
    "* Number of vessels fluro\n",
    "* Thallium\n",
    "\n",
    "The dataset can be found from here: https://www.kaggle.com/datasets/rishidamarla/heart-disease-prediction?resource=download\n",
    "\n",
    "Steps to train machine learning model workflow:\n",
    "\n",
    "1. Getting the data ready: So, to summarize, the data is to be prepared for the machine learning algorithm. It differs from dataset to dataset on how the data is to be prepared. For example, some datasets do not have missing values in the columns, whereas some do. Where there are missing values, it is addressed by either removing the rows with missing values or doing imputation, where a theoretical data is substituted in. But if a dataset does not have missing values, the step to address missing values are not done. It is also checked if the dataset is balanced or not here in this step. \n",
    "\n",
    "\n",
    "2. Choose the right estimator/algorithm for our problems: This is done by experimentation, to know which models are best for a problem. It cannot be known beforehand, however, some key factors are to choose a classification model for a classification problem, and to choose a regression model for a regression problem. \n",
    "\n",
    "\n",
    "3. Fit the model/algorithm and use it to make predictions on our data: The model is trained on a portion of data from the dataset. It is important to use different data for training and testing, so the data is split usually its done to be 80-20. A student practices and learns through a few question sets, but the student gets graded on a different question set. The same applies to machine learning. \n",
    "\n",
    "\n",
    "4. Evaluating a model: After training the model, the model gets evaluated to see how well they performed. There are various performance metrics such as accuracy, precision etc, which will be explained later. \n",
    "\n",
    "5. Improve a model: The model gets experimented by tuning different hyperparameters of the model. The hyperparameters that the model performed the best on, is kept. \n",
    "\n",
    "\n",
    "6. Save and load a trained model: In order to implement the model onto an application, the model saved such as by pickle format, and is imported onto the application's code to make predictions. But in this case, this step is skipped since the model is not being imported to an application.\n",
    "\n",
    "# The librararies that are used are imported"
   ]
  },
  {
   "cell_type": "code",
   "execution_count": 151,
   "id": "b62597e7",
   "metadata": {},
   "outputs": [],
   "source": [
    "import pandas as pd\n",
    "import numpy as np\n",
    "import matplotlib.pyplot as plt\n",
    "from sklearn.ensemble import RandomForestClassifier\n",
    "from sklearn.model_selection import train_test_split\n",
    "from sklearn.metrics import accuracy_score, precision_score, recall_score\n",
    "from sklearn.preprocessing import OneHotEncoder # turns into numbers\n",
    "from sklearn.compose import ColumnTransformer\n",
    "from sklearn.neighbors import KNeighborsClassifier\n",
    "from sklearn.tree import DecisionTreeClassifier\n",
    "from sklearn.linear_model import RidgeClassifier\n",
    "from sklearn.neural_network import MLPClassifier\n",
    "from sklearn.ensemble import ExtraTreesClassifier\n",
    "import seaborn as sns\n",
    "from sklearn.metrics import confusion_matrix, classification_report\n",
    "from sklearn.model_selection import GridSearchCV, RandomizedSearchCV\n",
    "from sklearn.pipeline import make_pipeline\n",
    "from sklearn.preprocessing import StandardScaler\n",
    "np.random.seed(333)"
   ]
  },
  {
   "cell_type": "markdown",
   "id": "44b27952",
   "metadata": {},
   "source": [
    "# The data is read by pandas"
   ]
  },
  {
   "cell_type": "code",
   "execution_count": 152,
   "id": "923e8e48",
   "metadata": {},
   "outputs": [
    {
     "data": {
      "text/html": [
       "<div>\n",
       "<style scoped>\n",
       "    .dataframe tbody tr th:only-of-type {\n",
       "        vertical-align: middle;\n",
       "    }\n",
       "\n",
       "    .dataframe tbody tr th {\n",
       "        vertical-align: top;\n",
       "    }\n",
       "\n",
       "    .dataframe thead th {\n",
       "        text-align: right;\n",
       "    }\n",
       "</style>\n",
       "<table border=\"1\" class=\"dataframe\">\n",
       "  <thead>\n",
       "    <tr style=\"text-align: right;\">\n",
       "      <th></th>\n",
       "      <th>Age</th>\n",
       "      <th>Sex</th>\n",
       "      <th>Chest pain type</th>\n",
       "      <th>BP</th>\n",
       "      <th>Cholesterol</th>\n",
       "      <th>FBS over 120</th>\n",
       "      <th>EKG results</th>\n",
       "      <th>Max HR</th>\n",
       "      <th>Exercise angina</th>\n",
       "      <th>ST depression</th>\n",
       "      <th>Slope of ST</th>\n",
       "      <th>Number of vessels fluro</th>\n",
       "      <th>Thallium</th>\n",
       "      <th>Heart Disease</th>\n",
       "    </tr>\n",
       "  </thead>\n",
       "  <tbody>\n",
       "    <tr>\n",
       "      <th>0</th>\n",
       "      <td>70</td>\n",
       "      <td>1</td>\n",
       "      <td>4</td>\n",
       "      <td>130</td>\n",
       "      <td>322</td>\n",
       "      <td>0</td>\n",
       "      <td>2</td>\n",
       "      <td>109</td>\n",
       "      <td>0</td>\n",
       "      <td>2.4</td>\n",
       "      <td>2</td>\n",
       "      <td>3</td>\n",
       "      <td>3</td>\n",
       "      <td>Presence</td>\n",
       "    </tr>\n",
       "    <tr>\n",
       "      <th>1</th>\n",
       "      <td>67</td>\n",
       "      <td>0</td>\n",
       "      <td>3</td>\n",
       "      <td>115</td>\n",
       "      <td>564</td>\n",
       "      <td>0</td>\n",
       "      <td>2</td>\n",
       "      <td>160</td>\n",
       "      <td>0</td>\n",
       "      <td>1.6</td>\n",
       "      <td>2</td>\n",
       "      <td>0</td>\n",
       "      <td>7</td>\n",
       "      <td>Absence</td>\n",
       "    </tr>\n",
       "    <tr>\n",
       "      <th>2</th>\n",
       "      <td>57</td>\n",
       "      <td>1</td>\n",
       "      <td>2</td>\n",
       "      <td>124</td>\n",
       "      <td>261</td>\n",
       "      <td>0</td>\n",
       "      <td>0</td>\n",
       "      <td>141</td>\n",
       "      <td>0</td>\n",
       "      <td>0.3</td>\n",
       "      <td>1</td>\n",
       "      <td>0</td>\n",
       "      <td>7</td>\n",
       "      <td>Presence</td>\n",
       "    </tr>\n",
       "    <tr>\n",
       "      <th>3</th>\n",
       "      <td>64</td>\n",
       "      <td>1</td>\n",
       "      <td>4</td>\n",
       "      <td>128</td>\n",
       "      <td>263</td>\n",
       "      <td>0</td>\n",
       "      <td>0</td>\n",
       "      <td>105</td>\n",
       "      <td>1</td>\n",
       "      <td>0.2</td>\n",
       "      <td>2</td>\n",
       "      <td>1</td>\n",
       "      <td>7</td>\n",
       "      <td>Absence</td>\n",
       "    </tr>\n",
       "    <tr>\n",
       "      <th>4</th>\n",
       "      <td>74</td>\n",
       "      <td>0</td>\n",
       "      <td>2</td>\n",
       "      <td>120</td>\n",
       "      <td>269</td>\n",
       "      <td>0</td>\n",
       "      <td>2</td>\n",
       "      <td>121</td>\n",
       "      <td>1</td>\n",
       "      <td>0.2</td>\n",
       "      <td>1</td>\n",
       "      <td>1</td>\n",
       "      <td>3</td>\n",
       "      <td>Absence</td>\n",
       "    </tr>\n",
       "  </tbody>\n",
       "</table>\n",
       "</div>"
      ],
      "text/plain": [
       "   Age  Sex  Chest pain type   BP  Cholesterol  FBS over 120  EKG results  \\\n",
       "0   70    1                4  130          322             0            2   \n",
       "1   67    0                3  115          564             0            2   \n",
       "2   57    1                2  124          261             0            0   \n",
       "3   64    1                4  128          263             0            0   \n",
       "4   74    0                2  120          269             0            2   \n",
       "\n",
       "   Max HR  Exercise angina  ST depression  Slope of ST  \\\n",
       "0     109                0            2.4            2   \n",
       "1     160                0            1.6            2   \n",
       "2     141                0            0.3            1   \n",
       "3     105                1            0.2            2   \n",
       "4     121                1            0.2            1   \n",
       "\n",
       "   Number of vessels fluro  Thallium Heart Disease  \n",
       "0                        3         3      Presence  \n",
       "1                        0         7       Absence  \n",
       "2                        0         7      Presence  \n",
       "3                        1         7       Absence  \n",
       "4                        1         3       Absence  "
      ]
     },
     "execution_count": 152,
     "metadata": {},
     "output_type": "execute_result"
    }
   ],
   "source": [
    "heart_disease = pd.read_csv(\"Heart_Disease_Prediction.csv\") # reading dataset\n",
    "heart_disease.head() # getting first 5 rows"
   ]
  },
  {
   "cell_type": "markdown",
   "id": "94870fb9",
   "metadata": {},
   "source": [
    "# Observing how many columns can be turned to categorical columns\n",
    "Machine learning algorithms work best with numerical data, and not strings. However, many real world data is categorical such as state, animal type, and customer type. In other words, categorical columns contain values that are neither numerical or continuous, but distinct values of different categories. \n",
    "\n",
    "Machine learning models do not interpret these types of categorical data well. So, in order to get the best results with machine learning. We transform them to numerical features.\n",
    "\n",
    "Categorical columns are transformed like this:\n",
    "<img src='./Images/cat column.png' alt='' /> \n",
    "\n",
    "In the cell below, I am observing which columns contain distinct values so it can be transformed to get best results. "
   ]
  },
  {
   "cell_type": "code",
   "execution_count": 153,
   "id": "4189558a",
   "metadata": {},
   "outputs": [
    {
     "name": "stdout",
     "output_type": "stream",
     "text": [
      "Chest Pain Type values: \n",
      "4    129\n",
      "3     79\n",
      "2     42\n",
      "1     20\n",
      "Name: Chest pain type, dtype: int64 \n",
      "\n",
      "FBS over 120 values: \n",
      "0    230\n",
      "1     40\n",
      "Name: FBS over 120, dtype: int64\n",
      "\n",
      "EKG results values: \n",
      "2    137\n",
      "0    131\n",
      "1      2\n",
      "Name: EKG results, dtype: int64\n",
      "\n",
      "Exercise angina values: \n",
      "0    181\n",
      "1     89\n",
      "Name: Exercise angina, dtype: int64\n",
      "\n",
      "Slope of ST values: \n",
      "1    130\n",
      "2    122\n",
      "3     18\n",
      "Name: Slope of ST, dtype: int64\n",
      "\n",
      "Number of vessels fluro values: \n",
      "0    160\n",
      "1     58\n",
      "2     33\n",
      "3     19\n",
      "Name: Number of vessels fluro, dtype: int64\n",
      "\n",
      "Thallium values: \n",
      "3    152\n",
      "7    104\n",
      "6     14\n",
      "Name: Thallium, dtype: int64\n",
      "\n",
      "Heart Disease values: \n",
      "Absence     150\n",
      "Presence    120\n",
      "Name: Heart Disease, dtype: int64\n",
      "\n"
     ]
    }
   ],
   "source": [
    "# Observing the data so the model becomes accurately trained\n",
    "print(\"Chest Pain Type values: \")\n",
    "print(f'{heart_disease[\"Chest pain type\"].value_counts()} \\n')\n",
    "\n",
    "print(\"FBS over 120 values: \")\n",
    "print(f'{heart_disease[\"FBS over 120\"].value_counts()}\\n')\n",
    "\n",
    "print(\"EKG results values: \")\n",
    "print(f'{heart_disease[\"EKG results\"].value_counts()}\\n')\n",
    "\n",
    "print(\"Exercise angina values: \")\n",
    "print(f'{heart_disease[\"Exercise angina\"].value_counts()}\\n')\n",
    "\n",
    "print(\"Slope of ST values: \")\n",
    "print(f'{heart_disease[\"Slope of ST\"].value_counts()}\\n')\n",
    "\n",
    "print(\"Number of vessels fluro values: \")\n",
    "print(f'{heart_disease[\"Number of vessels fluro\"].value_counts()}\\n')\n",
    "\n",
    "print(\"Thallium values: \")\n",
    "print(f'{heart_disease[\"Thallium\"].value_counts()}\\n')\n",
    "\n",
    "print(\"Heart Disease values: \")\n",
    "print(f'{heart_disease[\"Heart Disease\"].value_counts()}\\n')"
   ]
  },
  {
   "cell_type": "markdown",
   "id": "4f29867f",
   "metadata": {},
   "source": [
    "In the cell above, the values that are present, and the count of the values in each column are present. The columns with distinct values will be transformed. \n",
    "\n",
    "It is also observed that the y target, which is to be predicted, heart disease or not , is in string, so the y is also to be transformed later on.\n",
    "\n",
    "Another thing, which is observed, is that the dataset is balanced. The count of \"Absence\" and \"Presence\" are 150-120 in the target variable, y, which indicates that the dataset is pretty much balanced.\n",
    "# Observing if there are any missing values\n",
    "In the cell below, if there are any missing value in any of the column is being observed. The 0s indicate there are no missing values in any of the columns.\n",
    "\n",
    "This is being checked for, because machines cannot interpret when missing values are present. If there were missing values, this could have been solved with 4 ways:\n",
    "* Removal of rows: The rows containing missing values are dropped. However, if there are lots of missing values in a dataset where there is not enough data already, then imputation is preferred.\n",
    "* Imputation: Imputation involves filling in the missing values with estimated or imputed values. This can be done using various techniques, such as:\n",
    " - Mean/Median/Mode Imputation: Replace missing values with the mean, median, or mode of the non-missing values in the respective column.\n",
    " - Regression Imputation: Use regression models to predict missing values based on other features in the dataset.\n",
    " - K-Nearest Neighbors (KNN) Imputation: Fill in missing values based on the values of the nearest neighbors in the feature space.\n",
    " - Multiple Imputation: Generate multiple imputed datasets and use them for analysis, incorporating the uncertainty introduced by imputation.\n",
    "* Indicator Variable: Create an additional binary column that indicates whether a value is missing or not. This allows the model to capture any patterns or relationships associated with missing values as a separate feature.\n",
    "\n",
    "Usually removal of rows, and imputation solves the problem. "
   ]
  },
  {
   "cell_type": "code",
   "execution_count": 154,
   "id": "97527c66",
   "metadata": {},
   "outputs": [
    {
     "data": {
      "text/plain": [
       "Age                        0\n",
       "Sex                        0\n",
       "Chest pain type            0\n",
       "BP                         0\n",
       "Cholesterol                0\n",
       "FBS over 120               0\n",
       "EKG results                0\n",
       "Max HR                     0\n",
       "Exercise angina            0\n",
       "ST depression              0\n",
       "Slope of ST                0\n",
       "Number of vessels fluro    0\n",
       "Thallium                   0\n",
       "Heart Disease              0\n",
       "dtype: int64"
      ]
     },
     "execution_count": 154,
     "metadata": {},
     "output_type": "execute_result"
    }
   ],
   "source": [
    "heart_disease.isna().sum() # check for missing values"
   ]
  },
  {
   "cell_type": "markdown",
   "id": "3d5aafa9",
   "metadata": {},
   "source": [
    "# Columns above need to be turned to categorical, but let's split to x & y first\n",
    "Feature variables or x, is the input data, that the model takes to predict y or the target variable. So, in other words, the input data and the output data are being split out to test and train the model\n",
    "\n",
    "Here, the string \"Absence\" and \"Presence\" in the target variable is transformed to 0 and 1 respectively since machines understand numeric data"
   ]
  },
  {
   "cell_type": "code",
   "execution_count": 155,
   "id": "3c594aaa",
   "metadata": {},
   "outputs": [],
   "source": [
    "# picking all columns except Heart Disease as feature variables\n",
    "x = heart_disease.drop(\"Heart Disease\", axis=1)\n",
    "# transforming string to numbers after picking what \n",
    "# we are predicting i.e heart disease as targer variable\n",
    "transformed_y = heart_disease[\"Heart Disease\"].map({\"Absence\": 0, \"Presence\": 1})"
   ]
  },
  {
   "cell_type": "markdown",
   "id": "da992daa",
   "metadata": {},
   "source": [
    "# Turning columns to categorical to produce better results\n",
    "Previously, it was explained that it is best to transform columns with distinct values to get better results. Here, this step is being performed. "
   ]
  },
  {
   "cell_type": "code",
   "execution_count": 156,
   "id": "3864de3c",
   "metadata": {},
   "outputs": [
    {
     "data": {
      "text/plain": [
       "(array([[0.00e+00, 0.00e+00, 0.00e+00, ..., 3.22e+02, 1.09e+02, 2.40e+00],\n",
       "        [0.00e+00, 0.00e+00, 1.00e+00, ..., 5.64e+02, 1.60e+02, 1.60e+00],\n",
       "        [0.00e+00, 1.00e+00, 0.00e+00, ..., 2.61e+02, 1.41e+02, 3.00e-01],\n",
       "        ...,\n",
       "        [0.00e+00, 1.00e+00, 0.00e+00, ..., 2.94e+02, 1.53e+02, 1.30e+00],\n",
       "        [0.00e+00, 0.00e+00, 0.00e+00, ..., 1.92e+02, 1.48e+02, 4.00e-01],\n",
       "        [0.00e+00, 0.00e+00, 0.00e+00, ..., 2.86e+02, 1.08e+02, 1.50e+00]]),\n",
       " 0      1\n",
       " 1      0\n",
       " 2      1\n",
       " 3      0\n",
       " 4      0\n",
       "       ..\n",
       " 265    0\n",
       " 266    0\n",
       " 267    0\n",
       " 268    0\n",
       " 269    1\n",
       " Name: Heart Disease, Length: 270, dtype: int64)"
      ]
     },
     "execution_count": 156,
     "metadata": {},
     "output_type": "execute_result"
    }
   ],
   "source": [
    "# turns x, y to categorica columns on categorical_features, remainder passthrough\n",
    "# transforming x first\n",
    "# create an instance of one hot encoder, which is a popular method for this transformation\n",
    "one_hot = OneHotEncoder()\n",
    "# define the column names of x for which is to be transformed\n",
    "categorical_features_x = [\"Chest pain type\", \n",
    "                        \"FBS over 120\", \n",
    "                        \"EKG results\",\n",
    "                       \"Exercise angina\",\n",
    "                       \"Slope of ST\",\n",
    "                       \"Number of vessels fluro\",\n",
    "                       \"Thallium\",\n",
    "                       \"Sex\"]\n",
    "# create a ColumnTransformer to apply OneHotEncoder to specific columns in x\n",
    "transformer_x = ColumnTransformer([(\"one_hot\", \n",
    "                                  one_hot, \n",
    "                                  categorical_features_x)],\n",
    "                               remainder=\"passthrough\")\n",
    "# apply the transformation to x and store the transformed data in transformed_x\n",
    "transformed_x = transformer_x.fit_transform(x)\n",
    "transformed_x, transformed_y"
   ]
  },
  {
   "cell_type": "markdown",
   "id": "d8b7c684",
   "metadata": {},
   "source": [
    "# Split into training and test set\n",
    "Separate data is used for training and unseen data is used to test and evaluate the model to see how well it does. So the data is being split for 80-20 for train and test. Sklearn's train_test_split also shuffles up the rows."
   ]
  },
  {
   "cell_type": "code",
   "execution_count": 157,
   "id": "e80c9a82",
   "metadata": {},
   "outputs": [],
   "source": [
    "x_train, x_test, y_train, y_test = train_test_split(transformed_x, \n",
    "                                                    transformed_y, \n",
    "                                                    test_size=0.2)"
   ]
  },
  {
   "cell_type": "markdown",
   "id": "3591fffd",
   "metadata": {},
   "source": [
    "# Training up models\n",
    "6 models have been selected:\n",
    "1. Extra Trees Classifier: An ensemble learning model that constructs a large number of decision trees with random feature subsets and uses voting to make predictions, resulting in improved robustness and generalization.\n",
    "2. K Neighbors Classifier: A classification model that predicts the class of a data point based on the majority class of its k nearest neighbors, where k is a user-defined parameter.\n",
    "3. Random Forest: An ensemble learning model that combines multiple decision trees by averaging their predictions, resulting in improved accuracy and resistance to overfitting.\n",
    "4. Decision Trees Classifier: A classification model that uses a tree-like structure to make decisions based on features, where each internal node represents a feature, each branch represents a decision rule, and each leaf node represents a class label.\n",
    "5. MLP Classifier: A neural network model with multiple layers of perceptrons that can learn complex patterns and relationships between features, often used for classification tasks.\n",
    "6. Ridge: Ridge regression is a linear regression model that includes a penalty term (L2 regularization) to prevent overfitting by reducing the magnitudes of the regression coefficients.\n",
    "\n",
    "The function takes in the chosen models and spits out respective accuracies. It is observed that Ridge is the best model. \n",
    "\n",
    "**So, the question arises on how I am so certain that Ridge is the best model since when models are initialized, random parameters for the model are set. And due to that randomization with parameters, sometimes a different model can perform the best in some other run.**\n",
    "\n",
    "To answer that, the train_and_score is repeating itself with the loop for each model, and spits out the average score of each model. So, it reduces that impact significantly. However, it could be that a different model, other than Ridge, performs the best in a rare case within a different environment."
   ]
  },
  {
   "cell_type": "code",
   "execution_count": 158,
   "id": "a074b2fe",
   "metadata": {},
   "outputs": [],
   "source": [
    "# creating a model to train and evaluate models\n",
    "def train_and_score(models, x_train, x_test, y_train, y_test):\n",
    "    # ensures that the random numbers generated are reproducible\n",
    "    np.random.seed(333)\n",
    "    # to record in the average score of each model\n",
    "    model_scores = {}\n",
    "    # key, value in models dictionary\n",
    "    for name, model in models.items():\n",
    "        # create an empty list to store scores for each iteration\n",
    "        # average is done on this later on         \n",
    "        scores = []\n",
    "        for _ in range(5):\n",
    "            # Train the model to the training data\n",
    "            model.fit(x_train, y_train)\n",
    "            # Calculate the score on the test data\n",
    "            score = model.score(x_test, y_test)\n",
    "            # Append the score to the scores list\n",
    "            scores.append(score)\n",
    "        # Calculate the mean score and store it in model_scores\n",
    "        model_scores[name] = np.mean(scores)\n",
    "    return model_scores"
   ]
  },
  {
   "cell_type": "code",
   "execution_count": 159,
   "id": "4d7b0f55",
   "metadata": {},
   "outputs": [
    {
     "data": {
      "image/png": "[encoded data removed]",
      "text/plain": [
       "<Figure size 640x480 with 1 Axes>"
      ]
     },
     "metadata": {},
     "output_type": "display_data"
    }
   ],
   "source": [
    "models = {\"Extra Trees\": ExtraTreesClassifier(),\n",
    "         \"KNN\": KNeighborsClassifier(),\n",
    "         \"Random Forest\": RandomForestClassifier(),\n",
    "         \"Decision Tree\": DecisionTreeClassifier(criterion = 'entropy', random_state = 0),\n",
    "         \"MLP\": MLPClassifier(max_iter=1000),\n",
    "         \"Ridge\": RidgeClassifier()}\n",
    "# calling tran_and_score on all the given models\n",
    "model_scores = train_and_score(models, x_train, x_test, y_train, y_test)\n",
    "model_compare = pd.DataFrame(model_scores, index=[\"accuracy\"])\n",
    "ax = model_compare.T.plot.bar() # Plot a bar graph to plot the accuracies\n",
    "plt.ylabel(\"Accuracy\")  # Add a label to the y-axis\n",
    "# adding in the exact accuracy on top of each bar\n",
    "for p in ax.patches:\n",
    "    ax.annotate(f\"{p.get_height():.2f}\", (p.get_x() + p.get_width() / 2, p.get_height()),\n",
    "                ha='center', va='bottom')\n",
    "plt.show() # display the graph"
   ]
  },
  {
   "cell_type": "markdown",
   "id": "801352ec",
   "metadata": {},
   "source": [
    "# Choosing the best model and doing more evaluations on it\n",
    "So, it has been determined that Ridge performs the best from the graph above. From now on, more evaluations will be performed with Ridge to understand, if there are any side effects. If through these more evaluations, it is observed, that it has some side effects that does not align with what is to be achieved, then some other model can be chosen, and same evaluations performed"
   ]
  },
  {
   "cell_type": "code",
   "execution_count": 160,
   "id": "34dfdf70",
   "metadata": {},
   "outputs": [],
   "source": [
    "np.random.seed(333)\n",
    "# Instantiating again\n",
    "ridge_model = RidgeClassifier()\n",
    "# Training Ridge again\n",
    "ridge_model.fit(x_train, y_train)\n",
    "\n",
    "# Predicting values of y after prediction\n",
    "y_preds = ridge_model.predict(x_test)"
   ]
  },
  {
   "attachments": {},
   "cell_type": "markdown",
   "id": "8530ecf8",
   "metadata": {},
   "source": [
    "In order to get a deeper look at how well the model is performing. More evaluations have been done and they are:\n",
    "* Confusion matrix: is a table that summarizes the performance of a classification model by showing the counts of true positive, true negative, false positive, and false negative predictions. It is used to evaluate the performance of a classification model and provides insights into the types of errors the model is making\n",
    "    - true positive: positive observation correctly identified as positive.\n",
    "    - true negative: negative observation correctly identified as negative.\n",
    "    - false positive: negative observation incorrectly identified as positive.\n",
    "    - false negative: positive observation incorrectly identified as negative.\n",
    "* Classification report: is a summary of the main evaluation metrics for a classification model. It provides a concise overview of the model's performance on different classes or categories. The classification report includes the following metrics for each class:\n",
    "    - precision: measures the proportion of correctly predicted positive instances out of all instances predicted as positive.\n",
    "    - recall: measures the proportion of correctly predicted positive instances out of all actual positive instances.\n",
    "    - F1 Score: s the harmonic mean of precision and recall. It provides a balanced measure of the model's performance, considering both precision and recall.\n",
    "    - Support: represents the number of occurrences of each class in the true dataset.\n",
    "    \n",
    "From the cell below, it is observed that there are a combination of both high precision and high recall and this gives an indication that the model is performing well in terms of both identifying positive instances correctly and avoiding false positives."
   ]
  },
  {
   "cell_type": "code",
   "execution_count": 161,
   "id": "6ed82404",
   "metadata": {},
   "outputs": [
    {
     "name": "stdout",
     "output_type": "stream",
     "text": [
      "              precision    recall  f1-score   support\n",
      "\n",
      "           0       0.90      0.96      0.93        28\n",
      "           1       0.96      0.88      0.92        26\n",
      "\n",
      "    accuracy                           0.93        54\n",
      "   macro avg       0.93      0.92      0.93        54\n",
      "weighted avg       0.93      0.93      0.93        54\n",
      "\n"
     ]
    },
    {
     "data": {
      "image/png": "[encoded data removed]",
      "text/plain": [
       "<Figure size 300x300 with 1 Axes>"
      ]
     },
     "metadata": {},
     "output_type": "display_data"
    }
   ],
   "source": [
    "sns.set_theme(font_scale=1.5)\n",
    "def plot_confusion_matrix(y_test, y_preds):\n",
    "    fig, ax = plt.subplots(figsize=(3,3))\n",
    "    ax = sns.heatmap(confusion_matrix(y_test, y_preds),\n",
    "                    annot=True,\n",
    "                    cbar=False)\n",
    "    plt.xlabel(\"Predicted label\") # predictions go on the x-axis\n",
    "    plt.ylabel(\"True label\") # true labels go on the y-axis \n",
    "    \n",
    "plot_confusion_matrix(y_test, y_preds)\n",
    "print(classification_report(y_test, y_preds))"
   ]
  },
  {
   "cell_type": "markdown",
   "id": "29e5b99c",
   "metadata": {},
   "source": [
    "# Confirmed: Best model is Ridge.\n",
    "From the confusion matrix, and classification report, it can be observed that it does not have any side effects of the model. The side effects depend on the requirements. For example, if the side effect is that the model produces too many false positives, but the requirements mention it should not. \n",
    "# Improving the model using hyperparameter tuning.\n",
    "Finally, lets test out different parameters on the model, and carry on futher with the best settings on the model. This is done using GridSearchCV. \n",
    "\n",
    "The ways to improve the model are:\n",
    "1. Feature engineering: involves creates new features or transforming existing features that represents underlying data better. This can include techniques such as one-hot encoding, feature scaling, dimensionality reduction, or creating interaction variables.\n",
    "2. Hyperparameter tuning: Hyperparameters are the settings or configurations of a machine learning algorithm that are not learned from the data. Optimizing the hyperparameters can significantly improve model performance. Techniques like grid search, random search etc. Grid search cv and random search cv have been explained like so:\n",
    "    - Grid Search CV: Grid Search CV  is a technique that exhaustively searches through a predefined grid of hyperparameter combinations to determine the best set of hyperparameters for a given machine learning algorithm. It works by evaluating the performance of the model on each combination of hyperparameters using cross-validation. This can be computationally expensive but due to it exhaustively searching for parameters, it can sometimes be better than Random Search CV.\n",
    "    - Random Search CV: Random Search CV is an alternative technique that randomly samples hyperparameter combinations from a predefined distribution or range of values. Unlike Grid Search CV, Random Search CV does not explore all possible combinations. Instead, it focuses on sampling a fixed number of random combinations. This can be lesser time-consuming and lesser computationally expensive than Grid Search CV because it does not ehaustively search for parameters.\n",
    "3. Cross-validation: Cross-validation is a technique used to evaluate model performance by splitting the data into multiple subsets and training/evaluating the model on different combinations of these subsets. It helps to estimate how well the model will generalize to unseen data and prevents overfitting.\n",
    "\n",
    "Hyperparameter tuning is done with Grid Search CV here. Hyperparameter tuning could have been done by hand, or grid search cv or random search cv. The reason why grid search cv was done here is because it does not take long to train the model, so exhaustively searching for best parameters to optimize the model is a good tradeoff compared to having random search cv which is less computationally expensive. The reason why hyperparameter tuning was not done by hand is because grid search cv helps to explore more options for hyperparameters with less code. "
   ]
  },
  {
   "cell_type": "code",
   "execution_count": 162,
   "id": "0830a4b6",
   "metadata": {},
   "outputs": [
    {
     "name": "stdout",
     "output_type": "stream",
     "text": [
      "Fitting 5 folds for each of 6 candidates, totalling 30 fits\n"
     ]
    },
    {
     "data": {
      "text/html": [
       "<style>#sk-container-id-7 {color: black;background-color: white;}#sk-container-id-7 pre{padding: 0;}#sk-container-id-7 div.sk-toggleable {background-color: white;}#sk-container-id-7 label.sk-toggleable__label {cursor: pointer;display: block;width: 100%;margin-bottom: 0;padding: 0.3em;box-sizing: border-box;text-align: center;}#sk-container-id-7 label.sk-toggleable__label-arrow:before {content: \"▸\";float: left;margin-right: 0.25em;color: #696969;}#sk-container-id-7 label.sk-toggleable__label-arrow:hover:before {color: black;}#sk-container-id-7 div.sk-estimator:hover label.sk-toggleable__label-arrow:before {color: black;}#sk-container-id-7 div.sk-toggleable__content {max-height: 0;max-width: 0;overflow: hidden;text-align: left;background-color: #f0f8ff;}#sk-container-id-7 div.sk-toggleable__content pre {margin: 0.2em;color: black;border-radius: 0.25em;background-color: #f0f8ff;}#sk-container-id-7 input.sk-toggleable__control:checked~div.sk-toggleable__content {max-height: 200px;max-width: 100%;overflow: auto;}#sk-container-id-7 input.sk-toggleable__control:checked~label.sk-toggleable__label-arrow:before {content: \"▾\";}#sk-container-id-7 div.sk-estimator input.sk-toggleable__control:checked~label.sk-toggleable__label {background-color: #d4ebff;}#sk-container-id-7 div.sk-label input.sk-toggleable__control:checked~label.sk-toggleable__label {background-color: #d4ebff;}#sk-container-id-7 input.sk-hidden--visually {border: 0;clip: rect(1px 1px 1px 1px);clip: rect(1px, 1px, 1px, 1px);height: 1px;margin: -1px;overflow: hidden;padding: 0;position: absolute;width: 1px;}#sk-container-id-7 div.sk-estimator {font-family: monospace;background-color: #f0f8ff;border: 1px dotted black;border-radius: 0.25em;box-sizing: border-box;margin-bottom: 0.5em;}#sk-container-id-7 div.sk-estimator:hover {background-color: #d4ebff;}#sk-container-id-7 div.sk-parallel-item::after {content: \"\";width: 100%;border-bottom: 1px solid gray;flex-grow: 1;}#sk-container-id-7 div.sk-label:hover label.sk-toggleable__label {background-color: #d4ebff;}#sk-container-id-7 div.sk-serial::before {content: \"\";position: absolute;border-left: 1px solid gray;box-sizing: border-box;top: 0;bottom: 0;left: 50%;z-index: 0;}#sk-container-id-7 div.sk-serial {display: flex;flex-direction: column;align-items: center;background-color: white;padding-right: 0.2em;padding-left: 0.2em;position: relative;}#sk-container-id-7 div.sk-item {position: relative;z-index: 1;}#sk-container-id-7 div.sk-parallel {display: flex;align-items: stretch;justify-content: center;background-color: white;position: relative;}#sk-container-id-7 div.sk-item::before, #sk-container-id-7 div.sk-parallel-item::before {content: \"\";position: absolute;border-left: 1px solid gray;box-sizing: border-box;top: 0;bottom: 0;left: 50%;z-index: -1;}#sk-container-id-7 div.sk-parallel-item {display: flex;flex-direction: column;z-index: 1;position: relative;background-color: white;}#sk-container-id-7 div.sk-parallel-item:first-child::after {align-self: flex-end;width: 50%;}#sk-container-id-7 div.sk-parallel-item:last-child::after {align-self: flex-start;width: 50%;}#sk-container-id-7 div.sk-parallel-item:only-child::after {width: 0;}#sk-container-id-7 div.sk-dashed-wrapped {border: 1px dashed gray;margin: 0 0.4em 0.5em 0.4em;box-sizing: border-box;padding-bottom: 0.4em;background-color: white;}#sk-container-id-7 div.sk-label label {font-family: monospace;font-weight: bold;display: inline-block;line-height: 1.2em;}#sk-container-id-7 div.sk-label-container {text-align: center;}#sk-container-id-7 div.sk-container {/* jupyter's `normalize.less` sets `[hidden] { display: none; }` but bootstrap.min.css set `[hidden] { display: none !important; }` so we also need the `!important` here to be able to override the default hidden behavior on the sphinx rendered scikit-learn.org. See: https://github.com/scikit-learn/scikit-learn/issues/21755 */display: inline-block !important;position: relative;}#sk-container-id-7 div.sk-text-repr-fallback {display: none;}</style><div id=\"sk-container-id-7\" class=\"sk-top-container\"><div class=\"sk-text-repr-fallback\"><pre>GridSearchCV(cv=5,\n",
       "             estimator=Pipeline(steps=[(&#x27;standardscaler&#x27;, StandardScaler()),\n",
       "                                       (&#x27;ridgeclassifier&#x27;, RidgeClassifier())]),\n",
       "             param_grid={&#x27;ridgeclassifier__alpha&#x27;: array([1.e+00, 1.e-01, 1.e-02, 1.e-03, 1.e-04, 0.e+00])},\n",
       "             verbose=True)</pre><b>In a Jupyter environment, please rerun this cell to show the HTML representation or trust the notebook. <br />On GitHub, the HTML representation is unable to render, please try loading this page with nbviewer.org.</b></div><div class=\"sk-container\" hidden><div class=\"sk-item sk-dashed-wrapped\"><div class=\"sk-label-container\"><div class=\"sk-label sk-toggleable\"><input class=\"sk-toggleable__control sk-hidden--visually\" id=\"sk-estimator-id-24\" type=\"checkbox\" ><label for=\"sk-estimator-id-24\" class=\"sk-toggleable__label sk-toggleable__label-arrow\">GridSearchCV</label><div class=\"sk-toggleable__content\"><pre>GridSearchCV(cv=5,\n",
       "             estimator=Pipeline(steps=[(&#x27;standardscaler&#x27;, StandardScaler()),\n",
       "                                       (&#x27;ridgeclassifier&#x27;, RidgeClassifier())]),\n",
       "             param_grid={&#x27;ridgeclassifier__alpha&#x27;: array([1.e+00, 1.e-01, 1.e-02, 1.e-03, 1.e-04, 0.e+00])},\n",
       "             verbose=True)</pre></div></div></div><div class=\"sk-parallel\"><div class=\"sk-parallel-item\"><div class=\"sk-item\"><div class=\"sk-label-container\"><div class=\"sk-label sk-toggleable\"><input class=\"sk-toggleable__control sk-hidden--visually\" id=\"sk-estimator-id-25\" type=\"checkbox\" ><label for=\"sk-estimator-id-25\" class=\"sk-toggleable__label sk-toggleable__label-arrow\">estimator: Pipeline</label><div class=\"sk-toggleable__content\"><pre>Pipeline(steps=[(&#x27;standardscaler&#x27;, StandardScaler()),\n",
       "                (&#x27;ridgeclassifier&#x27;, RidgeClassifier())])</pre></div></div></div><div class=\"sk-serial\"><div class=\"sk-item\"><div class=\"sk-serial\"><div class=\"sk-item\"><div class=\"sk-estimator sk-toggleable\"><input class=\"sk-toggleable__control sk-hidden--visually\" id=\"sk-estimator-id-26\" type=\"checkbox\" ><label for=\"sk-estimator-id-26\" class=\"sk-toggleable__label sk-toggleable__label-arrow\">StandardScaler</label><div class=\"sk-toggleable__content\"><pre>StandardScaler()</pre></div></div></div><div class=\"sk-item\"><div class=\"sk-estimator sk-toggleable\"><input class=\"sk-toggleable__control sk-hidden--visually\" id=\"sk-estimator-id-27\" type=\"checkbox\" ><label for=\"sk-estimator-id-27\" class=\"sk-toggleable__label sk-toggleable__label-arrow\">RidgeClassifier</label><div class=\"sk-toggleable__content\"><pre>RidgeClassifier()</pre></div></div></div></div></div></div></div></div></div></div></div></div>"
      ],
      "text/plain": [
       "GridSearchCV(cv=5,\n",
       "             estimator=Pipeline(steps=[('standardscaler', StandardScaler()),\n",
       "                                       ('ridgeclassifier', RidgeClassifier())]),\n",
       "             param_grid={'ridgeclassifier__alpha': array([1.e+00, 1.e-01, 1.e-02, 1.e-03, 1.e-04, 0.e+00])},\n",
       "             verbose=True)"
      ]
     },
     "execution_count": 162,
     "metadata": {},
     "output_type": "execute_result"
    }
   ],
   "source": [
    "np.random.seed(333)\n",
    "# try different hyperparameters for my Ridge Model to better improve it.\n",
    "# enables random numbers generated to be reproducible\n",
    "np.random.seed(42)\n",
    "# define a grid of hyperparameter values to explore for each hyperparameter of the model.\n",
    "ridge_grid = {'ridgeclassifier__alpha': np.array([1,0.1,0.01,0.001,0.0001,0]) }\n",
    "# setup grid hyperparameter search for ridge\n",
    "ridge_improved = GridSearchCV(make_pipeline(StandardScaler(), RidgeClassifier()),\n",
    "                                param_grid=ridge_grid, \n",
    "                                cv=5, \n",
    "                                verbose=True)\n",
    "# train and evaluate the model using each combination of hyperparameters.\n",
    "ridge_improved.fit(x_train, y_train)"
   ]
  },
  {
   "cell_type": "code",
   "execution_count": 163,
   "id": "cc5b4bda",
   "metadata": {},
   "outputs": [
    {
     "name": "stdout",
     "output_type": "stream",
     "text": [
      "Improved model score with Grid Search CV: 0.9259259259259259\n"
     ]
    }
   ],
   "source": [
    "# printing out accuracy of improved ridge model\n",
    "print(f\"Improved model score with Grid Search CV: {ridge_improved.score(x_test, y_test)}\")"
   ]
  },
  {
   "cell_type": "markdown",
   "id": "f140ab04",
   "metadata": {},
   "source": [
    "# Conclusion\n",
    "Plotting table comparing predictions of whether the patient has heart disease or not to the respective actual values. The model predicts on unseen data, different to which it was trained on, and it does really well."
   ]
  },
  {
   "cell_type": "code",
   "execution_count": 164,
   "id": "d1136a51",
   "metadata": {},
   "outputs": [
    {
     "name": "stdout",
     "output_type": "stream",
     "text": [
      "    Actual Values  Predictions\n",
      "0               1            1\n",
      "1               1            1\n",
      "2               0            0\n",
      "3               1            1\n",
      "4               1            1\n",
      "5               0            0\n",
      "6               0            0\n",
      "7               0            0\n",
      "8               0            0\n",
      "9               1            1\n",
      "10              0            0\n",
      "11              1            1\n",
      "12              0            1\n",
      "13              1            1\n",
      "14              0            0\n",
      "15              1            1\n",
      "16              0            0\n",
      "17              1            1\n",
      "18              0            0\n",
      "19              0            0\n",
      "20              0            0\n",
      "21              0            0\n",
      "22              1            1\n",
      "23              1            1\n",
      "24              1            0\n",
      "25              0            0\n",
      "26              1            1\n",
      "27              1            1\n",
      "28              0            0\n",
      "29              0            0\n",
      "30              0            0\n",
      "31              0            0\n",
      "32              0            0\n",
      "33              1            0\n",
      "34              1            1\n",
      "35              1            1\n",
      "36              1            1\n",
      "37              0            0\n",
      "38              0            0\n",
      "39              1            1\n",
      "40              1            1\n",
      "41              0            0\n",
      "42              1            1\n",
      "43              0            0\n",
      "44              0            0\n",
      "45              1            1\n",
      "46              0            0\n",
      "47              1            1\n",
      "48              0            0\n",
      "49              0            0\n",
      "50              1            1\n",
      "51              1            0\n",
      "52              0            0\n",
      "53              1            1\n"
     ]
    }
   ],
   "source": [
    "# Define the two arrays\n",
    "y_preds = ridge_improved.predict(x_test)\n",
    "# convert to array, y_test\n",
    "array1 = np.array(y_test)\n",
    "# convert to array, y_preds\n",
    "array2 = np.array(y_preds)\n",
    "\n",
    "# Convert the arrays to Pandas Series to plot table for y_test array\n",
    "series1 = pd.Series(array1, name=\"Actual Values\")\n",
    "# Convert the arrays to Pandas Series to plot table for y_preds array\n",
    "series2 = pd.Series(array2, name=\"Predictions\")\n",
    "\n",
    "# Combine the Series into a single DataFrame\n",
    "df = pd.concat([series1, series2], axis=1)\n",
    "\n",
    "print(df)"
   ]
  },
  {
   "cell_type": "markdown",
   "id": "24bfc934",
   "metadata": {},
   "source": [
    "# Summary\n",
    "So, to summarize first the data was prepared for machine learning from the dataset, and there are various steps that can be performed to do this, depending on the dataset as has been explained. Then the data is split to x and y to separate the input and output data. Then the categorical columns are transformed because machines understand numerical data better than categorical columns. \n",
    "\n",
    "Then the data is split to training and test set using sklearn's train_test_split method, which shuffles the rows first. It is highly recommended to evaluate the model on unseen data, from which the model was trained on to correctly evaluate the model. \n",
    "\n",
    "Then, 6 models are trained and observed how they perform using average accuracies by retraining each model 5 times. It has been retrained for 5 times because models are initialized with random hyperparameters automatically, and these hyperparameters are optimized during training. Due to this randomization being present, it may give different results. That's why average is taken to reduce that impact. More evaluations are done later to understand all the other metrics to see where the model performs poorly. Then the best model is chosen, which is Ridge in this case.\n",
    "\n",
    "Finally, the model is improved using hyperparameter tuning specifically through grid search cv, where it tried out different parameters where the model performed the best exhaustively, to make a prediction on unseen data."
   ]
  },
  {
   "cell_type": "code",
   "execution_count": null,
   "id": "e30cb8ef",
   "metadata": {},
   "outputs": [],
   "source": []
  },
  {
   "cell_type": "code",
   "execution_count": null,
   "id": "57c30e97",
   "metadata": {},
   "outputs": [],
   "source": []
  },
  {
   "cell_type": "code",
   "execution_count": null,
   "id": "8569f7e3",
   "metadata": {},
   "outputs": [],
   "source": []
  },
  {
   "cell_type": "code",
   "execution_count": null,
   "id": "8dbef3f3",
   "metadata": {},
   "outputs": [],
   "source": []
  },
  {
   "cell_type": "code",
   "execution_count": null,
   "id": "6a7c1ba7",
   "metadata": {},
   "outputs": [],
   "source": []
  },
  {
   "cell_type": "code",
   "execution_count": null,
   "id": "db62fc64",
   "metadata": {},
   "outputs": [],
   "source": []
  }
 ],
 "metadata": {
  "kernelspec": {
   "display_name": "Python 3 (ipykernel)",
   "language": "python",
   "name": "python3"
  },
  "language_info": {
   "codemirror_mode": {
    "name": "ipython",
    "version": 3
   },
   "file_extension": ".py",
   "mimetype": "text/x-python",
   "name": "python",
   "nbconvert_exporter": "python",
   "pygments_lexer": "ipython3",
   "version": "3.10.8"
  }
 },
 "nbformat": 4,
 "nbformat_minor": 5
}
